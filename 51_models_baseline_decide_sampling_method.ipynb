{
 "cells": [
  {
   "cell_type": "markdown",
   "id": "36bd6450",
   "metadata": {},
   "source": [
    "# 51. Models (baseline decide sampling method)\n",
    "## Contents\n",
    "- Prerequisites\n",
    "- Baseline models (decide sampling method)\n",
    "---------------------------------------------------------\n",
    "## Prerequisites"
   ]
  },
  {
   "cell_type": "code",
   "execution_count": 4,
   "id": "81831f97",
   "metadata": {},
   "outputs": [],
   "source": [
    "import time\n",
    "import os\n",
    "import pandas as pd\n",
    "import numpy as np\n",
    "from sklearn.dummy import DummyClassifier\n",
    "from sklearn.linear_model import LogisticRegression\n",
    "from sklearn.ensemble import RandomForestClassifier\n",
    "from sklearn.svm import SVC\n",
    "from tqdm import tqdm\n",
    "import joblib\n",
    "import warnings\n",
    "from sklearn.model_selection import cross_val_score\n",
    "warnings.filterwarnings(\"ignore\", category=FutureWarning)\n",
    "warnings.filterwarnings(\"ignore\", category=UserWarning)\n",
    "file_path = 'C:/Users/Koen.Janssen/OneDrive/Documents/TILBURG UNIVERSITY/Thesis/Data/'\n",
    "parties = np.load('00_parties.npy')\n",
    "options = ['imbalanced','oversampling','undersampling','balancedsampling']\n",
    "rs = 1"
   ]
  },
  {
   "cell_type": "markdown",
   "id": "293c5ea3",
   "metadata": {},
   "source": [
    "------------------------------------------------\n",
    "<br>\n",
    "<br>\n",
    "<br>\n",
    "\n",
    "## Baseline models (decide sampling method)"
   ]
  },
  {
   "cell_type": "code",
   "execution_count": null,
   "id": "21924fb4",
   "metadata": {
    "scrolled": false
   },
   "outputs": [],
   "source": [
    "dur = time.time()\n",
    "results = pd.DataFrame(columns=['party', 'option', 'bm_score', 'lr_score', 'rf_score', 'svm_score'])\n",
    "# -------------------------------------------------------------------------------------~----------------------------------------\n",
    "for party in tqdm(parties, desc = 'Party loop'):                                       # for each party\n",
    "    for option in options:                                                             # for each sampling method\n",
    "\n",
    "# load training data \n",
    "# -------------------------------------------------------------------------------------~----------------------------------------\n",
    "        X_train_url = file_path + f\"20_models/{option}/\" + f\"{party}_X_train.csv\"      # define X_train url\n",
    "        y_train_url = file_path + f\"20_models/{option}/\" + f\"{party}_y_train.csv\"      # define y_train url\n",
    "        X_train = pd.read_csv(X_train_url)                                             # read X_train\n",
    "        X_train = X_train.drop(columns=['source', 'text','stemming_id','document_id']) # redefine X_train without columns\n",
    "        y_train = pd.read_csv(y_train_url)                                             # read y_train\n",
    "\n",
    "# load validation data\n",
    "# -------------------------------------------------------------------------------------~----------------------------------------      \n",
    "        X_valid_url = file_path + f\"20_models/{option}/\" + f\"{party}_X_valid.csv\"      # define X_valid url\n",
    "        y_valid_url = file_path + f\"20_models/{option}/\" + f\"{party}_y_valid.csv\"      # define y_valid url\n",
    "        X_valid = pd.read_csv(X_valid_url)                                             # read X_valid\n",
    "        X_valid = X_valid.drop(columns=['source', 'text','stemming_id','document_id']) # redefine X-valid without columns\n",
    "        y_valid = pd.read_csv(y_valid_url)                                             # read y_valid\n",
    "\n",
    "# models\n",
    "# -------------------------------------------------------------------------------------~----------------------------------------\n",
    "        # baseline model\n",
    "        # ----------------------------------------------------------------\n",
    "        bm = DummyClassifier(strategy='most_frequent')                                 # define model, dummy (most frequent)\n",
    "        bm.fit(X_train, y_train)                                                       # fit model on X_train and y_train\n",
    "        bm_score = bm.score(X_valid, y_valid)                                          # score model on X_valid and y_valid\n",
    "\n",
    "        # logistic regression model\n",
    "        # ----------------------------------------------------------------\n",
    "        lr = LogisticRegression(random_state = rs)                                     # define model, logistic regression\n",
    "        lr.fit(X_train, y_train)                                                       # fit model on X_train and y_train\n",
    "        lr_score = lr.score(X_valid, y_valid)                                          # score model on X_valid and y_valid\n",
    "\n",
    "        # random forest model\n",
    "        # ----------------------------------------------------------------\n",
    "        rf = RandomForestClassifier(random_state = rs)                                 # define model, random forest\n",
    "        rf.fit(X_train, y_train)                                                       # fit model on X_train and y_train\n",
    "        rf_score = rf.score(X_valid, y_valid)                                          # score model on X_valid and y_valid\n",
    "\n",
    "        # support vector machine model\n",
    "        # ----------------------------------------------------------------\n",
    "        svm = SVC(random_state = rs)                                                   # define model, support vector machine\n",
    "        svm.fit(X_train, y_train)                                                      # fit model on X_train and y_train\n",
    "        svm_score = svm.score(X_valid, y_valid)                                        # score model on X_valid and y_valid\n",
    "\n",
    "        # define results\n",
    "        # ----------------------------------------------------------------\n",
    "        result = pd.DataFrame({\n",
    "            'party': [party],\n",
    "            'option': [option],\n",
    "            'bm_score': [bm_score],\n",
    "            'lr_score': [lr_score],\n",
    "            'rf_score': [rf_score],\n",
    "            'svm_score': [svm_score]})                                                 # define result\n",
    "        results = pd.concat([results, result], ignore_index=True)                      # redefine results\n",
    "        #display(result)\n",
    "\n",
    "# -------------------------------------------------------------------------------------~----------------------------------------\n",
    "display(results)                                                                       # display results\n",
    "print('\\n---------------------------------------------------------------------------------------------------------------------')\n",
    "print(f\"Code duration: {round((time.time()  - dur),3)} seconds\")    "
   ]
  },
  {
   "cell_type": "code",
   "execution_count": 3,
   "id": "7cf674d0",
   "metadata": {
    "scrolled": false
   },
   "outputs": [
    {
     "data": {
      "text/html": [
       "<div>\n",
       "<style scoped>\n",
       "    .dataframe tbody tr th:only-of-type {\n",
       "        vertical-align: middle;\n",
       "    }\n",
       "\n",
       "    .dataframe tbody tr th {\n",
       "        vertical-align: top;\n",
       "    }\n",
       "\n",
       "    .dataframe thead th {\n",
       "        text-align: right;\n",
       "    }\n",
       "</style>\n",
       "<table border=\"1\" class=\"dataframe\">\n",
       "  <thead>\n",
       "    <tr style=\"text-align: right;\">\n",
       "      <th></th>\n",
       "      <th>option</th>\n",
       "      <th>bm_score</th>\n",
       "      <th>lr_score</th>\n",
       "      <th>rf_score</th>\n",
       "      <th>svm_score</th>\n",
       "    </tr>\n",
       "  </thead>\n",
       "  <tbody>\n",
       "    <tr>\n",
       "      <th>0</th>\n",
       "      <td>balancedsampling</td>\n",
       "      <td>0.317801</td>\n",
       "      <td>0.684781</td>\n",
       "      <td>0.744627</td>\n",
       "      <td>0.546781</td>\n",
       "    </tr>\n",
       "    <tr>\n",
       "      <th>1</th>\n",
       "      <td>imbalanced</td>\n",
       "      <td>0.687095</td>\n",
       "      <td>0.742669</td>\n",
       "      <td>0.750424</td>\n",
       "      <td>0.691418</td>\n",
       "    </tr>\n",
       "    <tr>\n",
       "      <th>2</th>\n",
       "      <td>oversampling</td>\n",
       "      <td>0.317801</td>\n",
       "      <td>0.682107</td>\n",
       "      <td>0.749096</td>\n",
       "      <td>0.543316</td>\n",
       "    </tr>\n",
       "    <tr>\n",
       "      <th>3</th>\n",
       "      <td>undersampling</td>\n",
       "      <td>0.317801</td>\n",
       "      <td>0.671962</td>\n",
       "      <td>0.683313</td>\n",
       "      <td>0.541869</td>\n",
       "    </tr>\n",
       "  </tbody>\n",
       "</table>\n",
       "</div>"
      ],
      "text/plain": [
       "             option  bm_score  lr_score  rf_score  svm_score\n",
       "0  balancedsampling  0.317801  0.684781  0.744627   0.546781\n",
       "1        imbalanced  0.687095  0.742669  0.750424   0.691418\n",
       "2      oversampling  0.317801  0.682107  0.749096   0.543316\n",
       "3     undersampling  0.317801  0.671962  0.683313   0.541869"
      ]
     },
     "metadata": {},
     "output_type": "display_data"
    }
   ],
   "source": [
    "numeric_columns = results.select_dtypes(include=[np.number]).columns\n",
    "average_results = results.groupby('option')[numeric_columns].mean().reset_index()\n",
    "display(average_results)"
   ]
  },
  {
   "cell_type": "markdown",
   "id": "92a266b3",
   "metadata": {},
   "source": [
    "-----------------------------------------\n",
    "--> The imbalanced dataset performs the best using all baseline and untuned models"
   ]
  }
 ],
 "metadata": {
  "kernelspec": {
   "display_name": "Python 3 (ipykernel)",
   "language": "python",
   "name": "python3"
  },
  "language_info": {
   "codemirror_mode": {
    "name": "ipython",
    "version": 3
   },
   "file_extension": ".py",
   "mimetype": "text/x-python",
   "name": "python",
   "nbconvert_exporter": "python",
   "pygments_lexer": "ipython3",
   "version": "3.11.4"
  }
 },
 "nbformat": 4,
 "nbformat_minor": 5
}
